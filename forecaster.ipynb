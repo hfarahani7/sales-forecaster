{
 "cells": [
  {
   "cell_type": "code",
   "execution_count": 126,
   "metadata": {},
   "outputs": [],
   "source": [
    "import csv\n",
    "\n",
    "import numpy as np\n",
    "import pandas as pd\n",
    "import matplotlib.pyplot as plt\n",
    "import seaborn as sns\n",
    "import pickle\n",
    "\n",
    "from sklearn import model_selection\n",
    "from sklearn.model_selection import train_test_split\n",
    "\n",
    "from sklearn import linear_model\n",
    "from sklearn.linear_model import LinearRegression\n",
    "from sklearn.linear_model import Ridge\n",
    "\n",
    "from sklearn.ensemble import RandomForestRegressor\n",
    "\n",
    "from sklearn.preprocessing import StandardScaler\n",
    "\n",
    "from sklearn import metrics\n",
    "from sklearn.metrics import r2_score\n",
    "\n",
    "from sklearn import preprocessing\n",
    "\n",
    "from sklearn.neighbors import KNeighborsRegressor\n",
    "from sklearn.ensemble import RandomForestRegressor"
   ]
  },
  {
   "cell_type": "code",
   "execution_count": 127,
   "metadata": {},
   "outputs": [
    {
     "data": {
      "text/html": [
       "<div>\n",
       "<style scoped>\n",
       "    .dataframe tbody tr th:only-of-type {\n",
       "        vertical-align: middle;\n",
       "    }\n",
       "\n",
       "    .dataframe tbody tr th {\n",
       "        vertical-align: top;\n",
       "    }\n",
       "\n",
       "    .dataframe thead th {\n",
       "        text-align: right;\n",
       "    }\n",
       "</style>\n",
       "<table border=\"1\" class=\"dataframe\">\n",
       "  <thead>\n",
       "    <tr style=\"text-align: right;\">\n",
       "      <th></th>\n",
       "      <th>ConsumerPriceIndex</th>\n",
       "      <th>Dow Jones</th>\n",
       "      <th>GDP</th>\n",
       "      <th>GDP_Construction</th>\n",
       "      <th>All Employees, Residential Building [000]</th>\n",
       "      <th>Producer Price Index by Industry: Construction Sand and Gravel Mining</th>\n",
       "      <th>Producer Price Index by Commodity: Machinery and Equipment</th>\n",
       "      <th>Maintenance and Repair of Nonresidential Buildings</th>\n",
       "      <th>Purchase Only House Price Index</th>\n",
       "      <th>New Manufactured Homes Avg Sales proce</th>\n",
       "      <th>&amp;P/Case-Shiller U.S. National Home Price Index</th>\n",
       "      <th>Industrial Production: Manufacturing: Durable Goods: Sawmills and Wood</th>\n",
       "    </tr>\n",
       "    <tr>\n",
       "      <th>Date</th>\n",
       "      <th></th>\n",
       "      <th></th>\n",
       "      <th></th>\n",
       "      <th></th>\n",
       "      <th></th>\n",
       "      <th></th>\n",
       "      <th></th>\n",
       "      <th></th>\n",
       "      <th></th>\n",
       "      <th></th>\n",
       "      <th></th>\n",
       "      <th></th>\n",
       "    </tr>\n",
       "  </thead>\n",
       "  <tbody>\n",
       "    <tr>\n",
       "      <th>2021-05-01</th>\n",
       "      <td>269195</td>\n",
       "      <td>34529.45</td>\n",
       "      <td>22741.0</td>\n",
       "      <td>951.0</td>\n",
       "      <td>853.1</td>\n",
       "      <td>414.400</td>\n",
       "      <td>149.900</td>\n",
       "      <td>123.900</td>\n",
       "      <td>342.22</td>\n",
       "      <td>69900</td>\n",
       "      <td>255.496</td>\n",
       "      <td>100.3333</td>\n",
       "    </tr>\n",
       "    <tr>\n",
       "      <th>2021-06-01</th>\n",
       "      <td>271696</td>\n",
       "      <td>34502.51</td>\n",
       "      <td>22741.0</td>\n",
       "      <td>951.0</td>\n",
       "      <td>867.8</td>\n",
       "      <td>416.000</td>\n",
       "      <td>151.400</td>\n",
       "      <td>126.000</td>\n",
       "      <td>348.71</td>\n",
       "      <td>70200</td>\n",
       "      <td>261.226</td>\n",
       "      <td>97.5105</td>\n",
       "    </tr>\n",
       "    <tr>\n",
       "      <th>2021-07-01</th>\n",
       "      <td>273003</td>\n",
       "      <td>34935.47</td>\n",
       "      <td>23202.3</td>\n",
       "      <td>951.1</td>\n",
       "      <td>882.1</td>\n",
       "      <td>416.351</td>\n",
       "      <td>151.461</td>\n",
       "      <td>127.353</td>\n",
       "      <td>353.67</td>\n",
       "      <td>76000</td>\n",
       "      <td>265.567</td>\n",
       "      <td>93.8086</td>\n",
       "    </tr>\n",
       "    <tr>\n",
       "      <th>2021-08-01</th>\n",
       "      <td>273567</td>\n",
       "      <td>35360.73</td>\n",
       "      <td>23202.3</td>\n",
       "      <td>951.1</td>\n",
       "      <td>883.1</td>\n",
       "      <td>419.185</td>\n",
       "      <td>152.851</td>\n",
       "      <td>129.793</td>\n",
       "      <td>356.24</td>\n",
       "      <td>80000</td>\n",
       "      <td>268.880</td>\n",
       "      <td>95.1096</td>\n",
       "    </tr>\n",
       "    <tr>\n",
       "      <th>2021-09-01</th>\n",
       "      <td>274310</td>\n",
       "      <td>33843.92</td>\n",
       "      <td>23202.3</td>\n",
       "      <td>951.1</td>\n",
       "      <td>876.4</td>\n",
       "      <td>419.267</td>\n",
       "      <td>155.527</td>\n",
       "      <td>131.585</td>\n",
       "      <td>358.66</td>\n",
       "      <td>78800</td>\n",
       "      <td>271.420</td>\n",
       "      <td>93.3268</td>\n",
       "    </tr>\n",
       "  </tbody>\n",
       "</table>\n",
       "</div>"
      ],
      "text/plain": [
       "            ConsumerPriceIndex  Dow Jones      GDP  GDP_Construction  \\\n",
       "Date                                                                   \n",
       "2021-05-01              269195   34529.45  22741.0             951.0   \n",
       "2021-06-01              271696   34502.51  22741.0             951.0   \n",
       "2021-07-01              273003   34935.47  23202.3             951.1   \n",
       "2021-08-01              273567   35360.73  23202.3             951.1   \n",
       "2021-09-01              274310   33843.92  23202.3             951.1   \n",
       "\n",
       "            All Employees, Residential Building [000]  \\\n",
       "Date                                                    \n",
       "2021-05-01                                      853.1   \n",
       "2021-06-01                                      867.8   \n",
       "2021-07-01                                      882.1   \n",
       "2021-08-01                                      883.1   \n",
       "2021-09-01                                      876.4   \n",
       "\n",
       "            Producer Price Index by Industry: Construction Sand and Gravel Mining  \\\n",
       "Date                                                                                \n",
       "2021-05-01                                            414.400                       \n",
       "2021-06-01                                            416.000                       \n",
       "2021-07-01                                            416.351                       \n",
       "2021-08-01                                            419.185                       \n",
       "2021-09-01                                            419.267                       \n",
       "\n",
       "            Producer Price Index by Commodity: Machinery and Equipment  \\\n",
       "Date                                                                     \n",
       "2021-05-01                                            149.900            \n",
       "2021-06-01                                            151.400            \n",
       "2021-07-01                                            151.461            \n",
       "2021-08-01                                            152.851            \n",
       "2021-09-01                                            155.527            \n",
       "\n",
       "            Maintenance and Repair of Nonresidential Buildings  \\\n",
       "Date                                                             \n",
       "2021-05-01                                            123.900    \n",
       "2021-06-01                                            126.000    \n",
       "2021-07-01                                            127.353    \n",
       "2021-08-01                                            129.793    \n",
       "2021-09-01                                            131.585    \n",
       "\n",
       "            Purchase Only House Price Index  \\\n",
       "Date                                          \n",
       "2021-05-01                           342.22   \n",
       "2021-06-01                           348.71   \n",
       "2021-07-01                           353.67   \n",
       "2021-08-01                           356.24   \n",
       "2021-09-01                           358.66   \n",
       "\n",
       "            New Manufactured Homes Avg Sales proce  \\\n",
       "Date                                                 \n",
       "2021-05-01                                   69900   \n",
       "2021-06-01                                   70200   \n",
       "2021-07-01                                   76000   \n",
       "2021-08-01                                   80000   \n",
       "2021-09-01                                   78800   \n",
       "\n",
       "            &P/Case-Shiller U.S. National Home Price Index  \\\n",
       "Date                                                         \n",
       "2021-05-01                                         255.496   \n",
       "2021-06-01                                         261.226   \n",
       "2021-07-01                                         265.567   \n",
       "2021-08-01                                         268.880   \n",
       "2021-09-01                                         271.420   \n",
       "\n",
       "            Industrial Production: Manufacturing: Durable Goods: Sawmills and Wood  \n",
       "Date                                                                                \n",
       "2021-05-01                                           100.3333                       \n",
       "2021-06-01                                            97.5105                       \n",
       "2021-07-01                                            93.8086                       \n",
       "2021-08-01                                            95.1096                       \n",
       "2021-09-01                                            93.3268                       "
      ]
     },
     "execution_count": 127,
     "metadata": {},
     "output_type": "execute_result"
    }
   ],
   "source": [
    "#initialize dfx, dataframe with index date and columns=features\n",
    "dfx = pd.read_csv(\"Macro_economic_var.csv\")\n",
    "dfx['Date'] = pd.to_datetime(dfx['Date'])\n",
    "dfx.set_index('Date', inplace=True)\n",
    "dfx.tail(5)"
   ]
  },
  {
   "cell_type": "code",
   "execution_count": 128,
   "metadata": {},
   "outputs": [
    {
     "data": {
      "text/html": [
       "<div>\n",
       "<style scoped>\n",
       "    .dataframe tbody tr th:only-of-type {\n",
       "        vertical-align: middle;\n",
       "    }\n",
       "\n",
       "    .dataframe tbody tr th {\n",
       "        vertical-align: top;\n",
       "    }\n",
       "\n",
       "    .dataframe thead th {\n",
       "        text-align: right;\n",
       "    }\n",
       "</style>\n",
       "<table border=\"1\" class=\"dataframe\">\n",
       "  <thead>\n",
       "    <tr style=\"text-align: right;\">\n",
       "      <th></th>\n",
       "      <th>Sales_UND</th>\n",
       "    </tr>\n",
       "    <tr>\n",
       "      <th>Date</th>\n",
       "      <th></th>\n",
       "    </tr>\n",
       "  </thead>\n",
       "  <tbody>\n",
       "    <tr>\n",
       "      <th>2017-01-01</th>\n",
       "      <td>1.018430</td>\n",
       "    </tr>\n",
       "    <tr>\n",
       "      <th>2017-02-01</th>\n",
       "      <td>1.038805</td>\n",
       "    </tr>\n",
       "    <tr>\n",
       "      <th>2017-03-01</th>\n",
       "      <td>2.782969</td>\n",
       "    </tr>\n",
       "    <tr>\n",
       "      <th>2017-04-01</th>\n",
       "      <td>1.311840</td>\n",
       "    </tr>\n",
       "    <tr>\n",
       "      <th>2017-05-01</th>\n",
       "      <td>1.925150</td>\n",
       "    </tr>\n",
       "  </tbody>\n",
       "</table>\n",
       "</div>"
      ],
      "text/plain": [
       "            Sales_UND\n",
       "Date                 \n",
       "2017-01-01   1.018430\n",
       "2017-02-01   1.038805\n",
       "2017-03-01   2.782969\n",
       "2017-04-01   1.311840\n",
       "2017-05-01   1.925150"
      ]
     },
     "execution_count": 128,
     "metadata": {},
     "output_type": "execute_result"
    }
   ],
   "source": [
    "#initialize dfy, scaled sales data\n",
    "dfy = pd.read_csv(\"Scaled_Sales_Toilet_Mansfield.csv\")\n",
    "dfy = dfy.drop(columns=\"seasonal\")\n",
    "dfy['Date'] = pd.to_datetime(dfy['Date'])\n",
    "dfy.set_index('Date', inplace=True)\n",
    "dfy.head(5)"
   ]
  },
  {
   "cell_type": "code",
   "execution_count": 129,
   "metadata": {},
   "outputs": [
    {
     "data": {
      "text/plain": [
       "[<matplotlib.lines.Line2D at 0x1b377058fd0>]"
      ]
     },
     "execution_count": 129,
     "metadata": {},
     "output_type": "execute_result"
    },
    {
     "data": {
      "image/png": "[encoded data removed]",
      "text/plain": [
       "<Figure size 432x288 with 1 Axes>"
      ]
     },
     "metadata": {
      "needs_background": "light"
     },
     "output_type": "display_data"
    }
   ],
   "source": [
    "plt.plot(dfy)"
   ]
  },
  {
   "cell_type": "code",
   "execution_count": 130,
   "metadata": {},
   "outputs": [],
   "source": [
    "X_train, X_test, y_train, y_test = train_test_split(dfx, dfy, test_size = 0.25, random_state=42)\n",
    "scaler = StandardScaler()\n",
    "X_train = scaler.fit_transform(X_train)\n",
    "X_test = scaler.transform(X_test)"
   ]
  },
  {
   "cell_type": "code",
   "execution_count": 131,
   "metadata": {
    "scrolled": false
   },
   "outputs": [
    {
     "name": "stdout",
     "output_type": "stream",
     "text": [
      "Coefficients:  [[-0.07674451 -0.44391125  1.25673919 -0.96024077 -0.22787131  0.13216783\n",
      "  -0.0159491  -0.45166291  3.03079352  0.22225402 -3.01988124  0.25417933]]\n",
      "R-squared:  0.6968488087782332\n"
     ]
    },
    {
     "data": {
      "image/png": "[encoded data removed]",
      "text/plain": [
       "<Figure size 432x288 with 1 Axes>"
      ]
     },
     "metadata": {
      "needs_background": "light"
     },
     "output_type": "display_data"
    }
   ],
   "source": [
    "linearReg = LinearRegression()  \n",
    "linearReg.fit(X_train, y_train)\n",
    "y_pred = linearReg.predict(X_test)\n",
    "\n",
    "print(\"Coefficients: \", linearReg.coef_)\n",
    "print(\"R-squared: \", r2_score(y_test, y_pred))\n",
    "r2 = r2_score(y_test, y_pred)\n",
    "handles = ['Test', 'Pred']\n",
    "\n",
    "plt.scatter(y_test.index, y_test, c=\"BLACK\")\n",
    "plt.scatter(y_test.index, y_pred, c=\"BLUE\")\n",
    "plt.title(\"Linear Regression Model: Predicted vs. Actual Sales\")\n",
    "plt.legend(handles)\n",
    "plt.grid(True)"
   ]
  },
  {
   "cell_type": "code",
   "execution_count": 132,
   "metadata": {},
   "outputs": [
    {
     "name": "stderr",
     "output_type": "stream",
     "text": [
      "C:\\Users\\hfara\\AppData\\Local\\Temp\\ipykernel_30104\\552540662.py:1: DataConversionWarning: A column-vector y was passed when a 1d array was expected. Please change the shape of y to (n_samples,), for example using ravel().\n",
      "  rf = RandomForestRegressor(n_estimators=300, max_features='sqrt', max_depth=5, random_state=18).fit(X_train, y_train)\n"
     ]
    },
    {
     "name": "stdout",
     "output_type": "stream",
     "text": [
      "R-squared:  0.5910969699234438\n"
     ]
    },
    {
     "data": {
      "image/png": "[encoded data removed]",
      "text/plain": [
       "<Figure size 432x288 with 1 Axes>"
      ]
     },
     "metadata": {
      "needs_background": "light"
     },
     "output_type": "display_data"
    }
   ],
   "source": [
    "rf = RandomForestRegressor(n_estimators=300, max_features='sqrt', max_depth=5, random_state=18).fit(X_train, y_train)\n",
    "y_pred_rf = rf.predict(X_test)\n",
    "\n",
    "print(\"R-squared: \", r2_score(y_test, y_pred_rf))\n",
    "r2 = r2_score(y_test, y_pred_rf)\n",
    "handles = ['Test', 'Pred']\n",
    "\n",
    "plt.scatter(y_test.index, y_test, c=\"BLACK\")\n",
    "plt.scatter(y_test.index, y_pred_rf, c=\"BLUE\")\n",
    "plt.title(\"Random Forest Regression Model: Predicted vs. Actual Sales\")\n",
    "plt.legend(handles)\n",
    "plt.grid(True)"
   ]
  },
  {
   "cell_type": "code",
   "execution_count": 133,
   "metadata": {},
   "outputs": [
    {
     "name": "stdout",
     "output_type": "stream",
     "text": [
      "R-squared:  0.6454378962891942\n"
     ]
    },
    {
     "data": {
      "image/png": "[encoded data removed]",
      "text/plain": [
       "<Figure size 432x288 with 1 Axes>"
      ]
     },
     "metadata": {
      "needs_background": "light"
     },
     "output_type": "display_data"
    }
   ],
   "source": [
    "ridgeModel = Ridge(alpha=1.0)\n",
    "ridgeModel.fit(X_train, y_train)\n",
    "y_pred_ridge = ridgeModel.predict(X_test)\n",
    "\n",
    "print(\"R-squared: \", r2_score(y_test, y_pred_ridge))\n",
    "r2 = r2_score(y_test, y_pred_ridge)\n",
    "handles = ['Test', 'Pred']\n",
    "\n",
    "plt.scatter(y_test.index, y_test, c=\"BLACK\")\n",
    "plt.scatter(y_test.index, y_pred_ridge, c=\"BLUE\")\n",
    "plt.title(\"Ridge Regression Model: Predicted vs. Actual Sales\")\n",
    "plt.legend(handles)\n",
    "plt.grid(True)"
   ]
  },
  {
   "cell_type": "code",
   "execution_count": 134,
   "metadata": {},
   "outputs": [],
   "source": [
    "#pickle model and scaler for use in client's notebook\n",
    "file = open('linearModel.pickle', 'wb')\n",
    "pickle.dump(linearReg, file)\n",
    "file1 = open('linearscaler.pickle', 'wb')\n",
    "pickle.dump(scaler, file1)\n",
    "file2 = open('dfx.pickle', 'wb')\n",
    "pickle.dump(dfx, file2)\n",
    "file3 = open('dfy.pickle', 'wb')\n",
    "pickle.dump(dfy, file3)\n",
    "file4 = open('rf.pickle', 'wb')\n",
    "pickle.dump(rf, file4)\n",
    "file5 = open('ridge.pickle', 'wb')\n",
    "pickle.dump(ridgeModel, file5)"
   ]
  }
 ],
 "metadata": {
  "kernelspec": {
   "display_name": "Python 3",
   "language": "python",
   "name": "python3"
  },
  "language_info": {
   "codemirror_mode": {
    "name": "ipython",
    "version": 3
   },
   "file_extension": ".py",
   "mimetype": "text/x-python",
   "name": "python",
   "nbconvert_exporter": "python",
   "pygments_lexer": "ipython3",
   "version": "3.10.3"
  }
 },
 "nbformat": 4,
 "nbformat_minor": 4
}
